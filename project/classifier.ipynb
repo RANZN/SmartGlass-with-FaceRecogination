{
 "cells": [
  {
   "cell_type": "code",
   "execution_count": 1,
   "metadata": {},
   "outputs": [
    {
     "ename": "ModuleNotFoundError",
     "evalue": "No module named 'cv2'",
     "output_type": "error",
     "traceback": [
      "\u001b[1;31m---------------------------------------------------------------------------\u001b[0m",
      "\u001b[1;31mModuleNotFoundError\u001b[0m                       Traceback (most recent call last)",
      "\u001b[1;32m<ipython-input-1-ae8ad5184c1e>\u001b[0m in \u001b[0;36m<module>\u001b[1;34m\u001b[0m\n\u001b[0;32m      2\u001b[0m \u001b[1;32mfrom\u001b[0m \u001b[0mPIL\u001b[0m \u001b[1;32mimport\u001b[0m \u001b[0mImage\u001b[0m\u001b[1;33m\u001b[0m\u001b[1;33m\u001b[0m\u001b[0m\n\u001b[0;32m      3\u001b[0m \u001b[1;32mimport\u001b[0m \u001b[0mos\u001b[0m\u001b[1;33m\u001b[0m\u001b[1;33m\u001b[0m\u001b[0m\n\u001b[1;32m----> 4\u001b[1;33m \u001b[1;32mimport\u001b[0m \u001b[0mcv2\u001b[0m\u001b[1;33m\u001b[0m\u001b[1;33m\u001b[0m\u001b[0m\n\u001b[0m\u001b[0;32m      5\u001b[0m \u001b[1;32mdef\u001b[0m \u001b[0mtrain_classifier\u001b[0m\u001b[1;33m(\u001b[0m\u001b[0mdata_dir\u001b[0m\u001b[1;33m)\u001b[0m\u001b[1;33m:\u001b[0m                                     \u001b[1;31m# this method  will take data directory where our image data are present.\u001b[0m\u001b[1;33m\u001b[0m\u001b[1;33m\u001b[0m\u001b[0m\n\u001b[0;32m      6\u001b[0m     \u001b[0mpath\u001b[0m\u001b[1;33m=\u001b[0m\u001b[1;33m[\u001b[0m\u001b[0mos\u001b[0m\u001b[1;33m.\u001b[0m\u001b[0mpath\u001b[0m\u001b[1;33m.\u001b[0m\u001b[0mjoin\u001b[0m\u001b[1;33m(\u001b[0m\u001b[0mdata_dir\u001b[0m\u001b[1;33m,\u001b[0m\u001b[0mf\u001b[0m\u001b[1;33m)\u001b[0m\u001b[1;32mfor\u001b[0m \u001b[0mf\u001b[0m \u001b[1;32min\u001b[0m \u001b[0mos\u001b[0m\u001b[1;33m.\u001b[0m\u001b[0mlistdir\u001b[0m\u001b[1;33m(\u001b[0m\u001b[0mdata_dir\u001b[0m\u001b[1;33m)\u001b[0m\u001b[1;33m]\u001b[0m    \u001b[1;31m# here, we are appending all the images in a list named path\u001b[0m\u001b[1;33m\u001b[0m\u001b[1;33m\u001b[0m\u001b[0m\n",
      "\u001b[1;31mModuleNotFoundError\u001b[0m: No module named 'cv2'"
     ]
    }
   ],
   "source": [
    "import numpy as np\n",
    "from PIL import Image\n",
    "import os\n",
    "import cv2\n",
    "def train_classifier(data_dir):                                     # this method  will take data directory where our image data are present.        \n",
    "    path=[os.path.join(data_dir,f)for f in os.listdir(data_dir)]    # here, we are appending all the images in a list named path\n",
    "    faces=[]                                                        # empty list for face\n",
    "    ids=[]                                                          # empty list for ids\n",
    "    \n",
    "    for image in path:                                             \n",
    "        img=Image.open(image).convert('L')                          # opening images and converting them to gray sacle.\n",
    "        imageNp=np.array(img,'uint8')                               # then , we are converting our image to numpy to train our classifier\n",
    "        id=int(os.path.split(image)[1].split(\".\")[1])   # it will seperate the data directory and give us the image file name and then we  ...\n",
    "                                                        #..need the string at first index ,so we split it using \".\" because the user id and..\n",
    "                                                        # img id is separated by \".\" and then we will take the string at 1st index which the user_id..\n",
    "                                                        #...since it will return a string , so we convert it into int.\n",
    "                                                         \n",
    "        faces.append(imageNp)                           # appending images in numpy format to the faces list\n",
    "        ids.append(id)                                  # appending ids to the ids list\n",
    "    ids=np.array(ids)                                   # converting ids list into numpy format.\n",
    "    \n",
    "    clf=cv2.face.LBPHFaceRecognizer_create()            # feeding our classifier and train it.\n",
    "    clf.train(faces,ids)                                # it will train our classifier by passing faces and ids as argument.\n",
    "    clf.write(\"classifier.yml\")                         # saving the classifier file. \n",
    "               \n",
    "train_classifier(\"C:\\\\data\")                            #calling the method and passing the directory. \n"
   ]
  },
  {
   "cell_type": "code",
   "execution_count": null,
   "metadata": {},
   "outputs": [],
   "source": []
  },
  {
   "cell_type": "code",
   "execution_count": null,
   "metadata": {},
   "outputs": [],
   "source": []
  }
 ],
 "metadata": {
  "kernelspec": {
   "display_name": "Python 3",
   "language": "python",
   "name": "python3"
  },
  "language_info": {
   "codemirror_mode": {
    "name": "ipython",
    "version": 3
   },
   "file_extension": ".py",
   "mimetype": "text/x-python",
   "name": "python",
   "nbconvert_exporter": "python",
   "pygments_lexer": "ipython3",
   "version": "3.7.6"
  }
 },
 "nbformat": 4,
 "nbformat_minor": 2
}
