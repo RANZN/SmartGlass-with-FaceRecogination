{
 "cells": [
  {
   "cell_type": "code",
   "execution_count": 1,
   "metadata": {},
   "outputs": [
    {
     "ename": "ModuleNotFoundError",
     "evalue": "No module named 'cv2'",
     "output_type": "error",
     "traceback": [
      "\u001b[1;31m---------------------------------------------------------------------------\u001b[0m",
      "\u001b[1;31mModuleNotFoundError\u001b[0m                       Traceback (most recent call last)",
      "\u001b[1;32m<ipython-input-1-95ac2cb861a1>\u001b[0m in \u001b[0;36m<module>\u001b[1;34m\u001b[0m\n\u001b[1;32m----> 1\u001b[1;33m \u001b[1;32mimport\u001b[0m \u001b[0mcv2\u001b[0m               \u001b[1;31m#OpenCV-Python is a library of Python bindings designed to solve computer vision problems.\u001b[0m\u001b[1;33m\u001b[0m\u001b[1;33m\u001b[0m\u001b[0m\n\u001b[0m\u001b[0;32m      2\u001b[0m \u001b[1;33m\u001b[0m\u001b[0m\n\u001b[0;32m      3\u001b[0m \u001b[1;33m\u001b[0m\u001b[0m\n\u001b[0;32m      4\u001b[0m \u001b[1;32mdef\u001b[0m \u001b[0mdraw_boundary\u001b[0m\u001b[1;33m(\u001b[0m\u001b[0mimg\u001b[0m\u001b[1;33m,\u001b[0m\u001b[0mclassifier\u001b[0m\u001b[1;33m,\u001b[0m\u001b[0mscaleFactor\u001b[0m\u001b[1;33m,\u001b[0m\u001b[0mminNeighbors\u001b[0m\u001b[1;33m,\u001b[0m\u001b[0mcolor\u001b[0m\u001b[1;33m,\u001b[0m\u001b[0mtext\u001b[0m\u001b[1;33m)\u001b[0m\u001b[1;33m:\u001b[0m\u001b[1;33m\u001b[0m\u001b[1;33m\u001b[0m\u001b[0m\n\u001b[0;32m      5\u001b[0m \u001b[1;33m\u001b[0m\u001b[0m\n",
      "\u001b[1;31mModuleNotFoundError\u001b[0m: No module named 'cv2'"
     ]
    }
   ],
   "source": [
    "import cv2               #OpenCV-Python is a library of Python bindings designed to solve computer vision problems.  \n",
    "\n",
    "\n",
    "def draw_boundary(img,classifier,scaleFactor,minNeighbors,color,text):\n",
    "    \n",
    "    gray_img=cv2.cvtColor(img,cv2.COLOR_BGR2GRAY)                            #converting RGB img to gray scale img  \n",
    "    \n",
    "    features= classifier.detectMultiScale(gray_img,scaleFactor,minNeighbors)  #here, through classifier we are using detectMulticale to detect all...\n",
    "                                                                              #... the possible faces in the image.\n",
    "                                                                              #Sacle factor-Basically the scale factor is used to create your scale..\n",
    "                                                                              #..pyramid\n",
    "                                                                              # minNeighbors- this parameter will affect the quality of the detected\n",
    "                                                                              #..faces\n",
    "                                                                        \n",
    "    coords=[]                                       # creating a list to hold the coordinates parameters      \n",
    "    \n",
    "    for (x,y,w,h) in features:                       # x- x axis , y-y axis , w - width , h- height\n",
    "        \n",
    "        cv2.rectangle(img,(x,y),(x+w,y+h),color,2)    # to draw rectangle around the face detected.\n",
    "        \n",
    "        \n",
    "        cv2.putText(img,text,(x,y-4),cv2.FONT_HERSHEY_SIMPLEX,0.8,color,1,cv2.LINE_AA)   # to put text over the image\n",
    "            \n",
    "        coords =[x,y,w,h]                            #updating the coordinates\n",
    "        \n",
    "    return coords,img\n",
    "\n",
    "\n",
    "def detect(img,faceCascade):      # declaring a function to detect face by taking  args i.e \n",
    "                                                        #...image and classifier of frontal face,eyes,nose and img_id \n",
    "    \n",
    "    \n",
    "    color={\"blue\":(255,0,0),\"red\":(0,0,255),\"green\":(0,255,0)}           # declaring color as a dictionary in RGB Code.\n",
    "    \n",
    "    coords,img=draw_boundary(img,faceCascade,1.1,10,color['blue'],\" Face\") # passing arguments to detect faces in image and draw boundary..\n",
    "                                                                              # across it. \n",
    "    \n",
    "        \n",
    "    return img\n",
    "\n",
    "faceCascade=cv2.CascadeClassifier('C:\\\\Users\\\\KIIT\\\\Downloads\\\\imageprocessing\\\\project\\\\haarcascade_frontalface_default.xml')\n",
    "                                # Loading haarcascade_frontalface_default.xml classifier file to faceCascade to detect faces. \n",
    "\n",
    "video_capture = cv2.VideoCapture(0)   # it will grab our default camera.\n",
    "while True:\n",
    "    \n",
    "    _,img=video_capture.read()       \n",
    "                             #this video_capture. read() grabs the frame and it returns back tuple of image files continuously and keeps  updating.\n",
    "        \n",
    "    img = detect(img,faceCascade)    \n",
    "    cv2.imshow(\"face detection\",img)           #shows the image and face detection is the frame name .\n",
    "    if cv2.waitKey(1) & 0xFF == ord('q'):      #press q to exit the frame. and waitkey()is for delaying so that human can see the video    \n",
    "        break\n",
    "\n",
    "video_capture.release()                     #stops capturing\n",
    "cv2.destroyAllWindows()\n",
    "\n",
    "\n"
   ]
  },
  {
   "cell_type": "code",
   "execution_count": null,
   "metadata": {},
   "outputs": [],
   "source": []
  }
 ],
 "metadata": {
  "kernelspec": {
   "display_name": "Python 3",
   "language": "python",
   "name": "python3"
  },
  "language_info": {
   "codemirror_mode": {
    "name": "ipython",
    "version": 3
   },
   "file_extension": ".py",
   "mimetype": "text/x-python",
   "name": "python",
   "nbconvert_exporter": "python",
   "pygments_lexer": "ipython3",
   "version": "3.7.6"
  }
 },
 "nbformat": 4,
 "nbformat_minor": 2
}
